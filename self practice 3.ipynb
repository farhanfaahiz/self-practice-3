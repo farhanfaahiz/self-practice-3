{
 "cells": [
  {
   "cell_type": "code",
   "execution_count": 31,
   "metadata": {},
   "outputs": [],
   "source": [
    "class Polygon:\n",
    "    def set_values(self, width = 'unknown value', height = 'none'):\n",
    "        self.__width = width\n",
    "        self.__height = height\n",
    "        print('width:', width)\n",
    "        print('height:', height)\n",
    "    def get_width(self):\n",
    "        return self.__width\n",
    "    def get_height(self):\n",
    "        return self.__height"
   ]
  },
  {
   "cell_type": "code",
   "execution_count": 32,
   "metadata": {},
   "outputs": [],
   "source": [
    "rect = Polygon()"
   ]
  },
  {
   "cell_type": "code",
   "execution_count": 33,
   "metadata": {},
   "outputs": [
    {
     "name": "stdout",
     "output_type": "stream",
     "text": [
      "width: unknown value\n",
      "height: none\n"
     ]
    }
   ],
   "source": [
    "rect.set_values()"
   ]
  },
  {
   "cell_type": "code",
   "execution_count": 34,
   "metadata": {},
   "outputs": [
    {
     "name": "stdout",
     "output_type": "stream",
     "text": [
      "width: unknown value\n",
      "height: none\n",
      "None\n"
     ]
    }
   ],
   "source": [
    "print(rect.set_values())"
   ]
  },
  {
   "cell_type": "code",
   "execution_count": null,
   "metadata": {},
   "outputs": [],
   "source": []
  }
 ],
 "metadata": {
  "kernelspec": {
   "display_name": "Python 3",
   "language": "python",
   "name": "python3"
  },
  "language_info": {
   "codemirror_mode": {
    "name": "ipython",
    "version": 3
   },
   "file_extension": ".py",
   "mimetype": "text/x-python",
   "name": "python",
   "nbconvert_exporter": "python",
   "pygments_lexer": "ipython3",
   "version": "3.7.6"
  }
 },
 "nbformat": 4,
 "nbformat_minor": 4
}
